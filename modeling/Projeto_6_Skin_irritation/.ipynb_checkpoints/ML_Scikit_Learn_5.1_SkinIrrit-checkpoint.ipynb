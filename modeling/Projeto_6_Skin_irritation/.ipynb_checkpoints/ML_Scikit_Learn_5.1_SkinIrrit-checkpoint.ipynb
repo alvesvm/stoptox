{
 "cells": [
  {
   "cell_type": "markdown",
   "metadata": {},
   "source": [
    "## 1. Importando módulos e funções\n",
    "    Por: Rodolpho C. Braga (RCB)                  02 de Novembro de 2018.\n",
    "         \n",
    "    "
   ]
  },
  {
   "cell_type": "code",
   "execution_count": 1,
   "metadata": {},
   "outputs": [
    {
     "name": "stdout",
     "output_type": "stream",
     "text": [
      "  * could not import Bokeh, plotting with Highcharts instead.\n",
      "- no local installation of highcharts found, using web version.\n",
      "- loading highcharts...\n"
     ]
    },
    {
     "data": {
      "text/html": [
       "\n",
       "<script src=\"http://code.highcharts.com/highcharts.js\"></script>\n",
       "<script src=\"http://code.highcharts.com/highcharts-more.js\"></script>\n",
       "<script src=\"http://code.highcharts.com/modules/heatmap.js\"></script>\n",
       "<script src=\"http://code.highcharts.com/modules/exporting.js\"></script>\n"
      ],
      "text/plain": [
       "<IPython.core.display.HTML object>"
      ]
     },
     "metadata": {},
     "output_type": "display_data"
    },
    {
     "name": "stdout",
     "output_type": "stream",
     "text": [
      "* SA scorer not available. RDKit's Contrib dir needs to be in the Python import path...\n",
      "rdkit_ipynb_tools.tools                       (171025-07:16)\n",
      "- no local installation of JSME found, using web version.\n",
      "* SA scorer not available. RDKit's Contrib dir needs to be in the Python import path...\n",
      "> interactive IPython session.\n",
      "rdkit_ipynb_tools.sar                         (180320-16:59)\n"
     ]
    },
    {
     "name": "stderr",
     "output_type": "stream",
     "text": [
      "Using TensorFlow backend.\n"
     ]
    }
   ],
   "source": [
    "import numpy as np\n",
    "import pandas as pd\n",
    "from rdkit import Chem\n",
    "from rdkit.Chem.Descriptors import MolLogP\n",
    "from sklearn.metrics import confusion_matrix,accuracy_score,f1_score\n",
    "from rdkit.Chem.AllChem import GetMorganFingerprintAsBitVect\n",
    "from rdkit.Chem import Descriptors\n",
    "import sys\n",
    "import multiprocessing\n",
    "from standardiser import break_bonds, neutralise, rules, unsalt\n",
    "from standardiser.utils import StandardiseException, sanity_check\n",
    "%reload_ext autoreload\n",
    "%autoreload 2\n",
    "def warn(*args, **kwargs):\n",
    "    pass  # to suppress sklearn warnings\n",
    "import warnings\n",
    "warnings.filterwarnings(\"ignore\")\n",
    "warnings.warn = warn\n",
    "from rdkit.Chem import AllChem as Chem\n",
    "from rdkit.Chem import Draw\n",
    "from rdkit.Chem.Draw import IPythonConsole\n",
    "import sys\n",
    "sys.path.append(\"../../\")\n",
    "from rdkit_ipynb_tools import tools\n",
    "from rdkit_ipynb_tools import  pipeline as p\n",
    "from rdkit_ipynb_tools import  sar\n",
    "from sklearn.metrics import cohen_kappa_score\n",
    "import csv\n",
    "from rdkit.Chem import MACCSkeys\n",
    "from sklearn.model_selection import ShuffleSplit\n",
    "import _pickle as cPickle\n",
    "from sklearn.model_selection import RepeatedStratifiedKFold\n",
    "from sklearn.model_selection import StratifiedShuffleSplit    \n",
    "import bz2\n",
    "from glob import glob\n",
    "import _pickle as cPickle\n",
    "import pickle\n",
    "# The next two lines are for optical reasons only. They can be safely disabled.\n",
    "Draw.DrawingOptions.atomLabelFontFace = \"DejaVu Sans\"\n",
    "Draw.DrawingOptions.atomLabelFontSize = 18\n",
    "\n",
    "#Modeling tools\n",
    "exec(open('../../rdkit_ipynb_tools/modeling.py').read())\n",
    "\n",
    "#Alerts Single rule pattern\n",
    "\n",
    "#Alerts multicategory\n",
    "# exec(open('../../rdkit_ipynb_tools/alerts.py').read())\n",
    "\n",
    "#Alerts Cross Rules (complex)"
   ]
  },
  {
   "cell_type": "markdown",
   "metadata": {},
   "source": [
    "## 2. Entrada dos dados\n",
    "\n",
    "Escolher a formda da entrada dos dados:\n",
    "1. SDF\n",
    "1. CSV"
   ]
  },
  {
   "cell_type": "markdown",
   "metadata": {},
   "source": [
    "### 2.1 SDF"
   ]
  },
  {
   "cell_type": "code",
   "execution_count": 2,
   "metadata": {},
   "outputs": [
    {
     "name": "stdout",
     "output_type": "stream",
     "text": [
      "(553, 18)\n",
      "(553, 19)\n"
     ]
    },
    {
     "data": {
      "text/plain": [
       "Index(['ID', 'InChIKey', 'Molecular weight', 'Outcome', 'Mol', 'SMILES', 'StandardizerResult', 'casrn', 'edema/ erythema score', 'guideline', 'id_input', 'max_duration(hrs)', 'max_score', 'reversibility', 'species', 'substance_name', 'type_of_coverage', 'vehicle', 'logP'], dtype='object')"
      ]
     },
     "execution_count": 2,
     "metadata": {},
     "output_type": "execute_result"
    }
   ],
   "source": [
    "#Caminho do SDF\n",
    "file= \"data/Skin_irritation_balanced_st.sdf\"\n",
    "\n",
    "sdfInfo = dict(smilesName='SMILES',molColName='ROMol')\n",
    "moldf = PandasTools.LoadSDF(file,**sdfInfo)\n",
    "print(moldf.shape)\n",
    "#Rename ROMol\n",
    "moldf = moldf.rename(columns={'ROMol': 'Mol'})\n",
    "#duplicatas by smiles\n",
    "moldf = moldf.drop_duplicates(subset=['SMILES'])\n",
    "#logP\n",
    "moldf['logP'] = moldf['Mol'].apply(MolLogP)\n",
    "#Remove moléculas sem esrtutura no RDKit\n",
    "moldf = moldf[pd.notnull(moldf['Mol'])]\n",
    "print(moldf.shape)\n",
    "#Colunas no pandas\n",
    "moldf.keys()"
   ]
  },
  {
   "cell_type": "code",
   "execution_count": 3,
   "metadata": {},
   "outputs": [
    {
     "name": "stdout",
     "output_type": "stream",
     "text": [
      "(553, 4)\n"
     ]
    },
    {
     "data": {
      "text/html": [
       "<table border=\"1\" class=\"dataframe\">\n",
       "  <thead>\n",
       "    <tr style=\"text-align: right;\">\n",
       "      <th></th>\n",
       "      <th>ID</th>\n",
       "      <th>Mol</th>\n",
       "      <th>SMILES</th>\n",
       "      <th>Outcome</th>\n",
       "    </tr>\n",
       "  </thead>\n",
       "  <tbody>\n",
       "    <tr>\n",
       "      <th>0</th>\n",
       "      <td></td>\n",
       "      <td><img src=\"data:image/png;base64,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\" alt=\"Mol\"/></td>\n",
       "      <td>CC1=CCCC(C)(C)C1C(C)CCC=O</td>\n",
       "      <td>1</td>\n",
       "    </tr>\n",
       "    <tr>\n",
       "      <th>1</th>\n",
       "      <td></td>\n",
       "      <td><img src=\"data:image/png;base64,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\" alt=\"Mol\"/></td>\n",
       "      <td>O=C1Cc2ccccc2O1</td>\n",
       "      <td>1</td>\n",
       "    </tr>\n",
       "    <tr>\n",
       "      <th>2</th>\n",
       "      <td></td>\n",
       "      <td><img src=\"data:image/png;base64,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\" alt=\"Mol\"/></td>\n",
       "      <td>O=C=Nc1ccc(Cl)cc1</td>\n",
       "      <td>1</td>\n",
       "    </tr>\n",
       "    <tr>\n",
       "      <th>3</th>\n",
       "      <td></td>\n",
       "      <td><img src=\"data:image/png;base64,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\" alt=\"Mol\"/></td>\n",
       "      <td>CC(C)COC(=O)C(C)Cl</td>\n",
       "      <td>1</td>\n",
       "    </tr>\n",
       "    <tr>\n",
       "      <th>4</th>\n",
       "      <td></td>\n",
       "      <td><img src=\"data:image/png;base64,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\" alt=\"Mol\"/></td>\n",
       "      <td>CO[Si](OC)(c1ccccc1)c1ccccc1</td>\n",
       "      <td>1</td>\n",
       "    </tr>\n",
       "  </tbody>\n",
       "</table>"
      ],
      "text/plain": [
       "  ID                                                                                                                                                                                                                                                                                                                                                                                                                                                                                                                                                                                                                                                                                                                                                                                                                                                                                                                                                                                                                                                                                                                                                                                                                                                                                                                                                                                                                                                                                                                                                                                                                                                                                                                                                                                                                                                                                                                                                                                                                                                                                                                                                                                                                                                                                                                                                                                                                                                                                                                                                                                                                                                                                                                                                                                                                                                                                                                                                                                                                                                                                                                                                                                                                                                                                                                                                                                                                                                                                                                                                                                                                                                                                                                                                                                                                                                                                                                                                                                                                                                                                                                                                                                                                                                                                                                                                                                                                                                                                                                                                                                                                                                                                                                                                                                                                                                                                                                                                                                                                                                                                                                                                                                                                                                                                                                                                                                                                                                                                                                                                                                                                                                                                                                                                                                                                                                                                                                                                                                                                                                                                                                                                                                                                                                                                                                                                                                                                                                                                                                                                                                                                                                                                                                                                                                                                                                                                                                                                                                                                                                                                                                                                            Mol                        SMILES Outcome\n",
       "0                                                                                                                                                                                                                                                                                                                                                                                                                                                                                                                                                                                                                                                                                                                                                                                                                                                                                                                                                                                                                                                                                                                                                                                                                                                                                                                                                                                                                                                                                                                                                                                                                                                                                                                                                                                                                                                                                                                                                                                                                                                                                                             <img src=\"data:image/png;base64,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\" alt=\"Mol\"/>     CC1=CCCC(C)(C)C1C(C)CCC=O       1\n",
       "1                                                                                                                                                                                                                                                                                                                                                                                                                                                                                                                                                                                                                                                                                                                                                                                                                                                                                                                                                                                                                                                                                                                                                             <img src=\"data:image/png;base64,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\" alt=\"Mol\"/>               O=C1Cc2ccccc2O1       1\n",
       "2                                                                                                                                                                                                                                                                                                                                                                                                                                                                                                                                                                                                                                                                                                         <img src=\"data:image/png;base64,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\" alt=\"Mol\"/>             O=C=Nc1ccc(Cl)cc1       1\n",
       "3                                                                                                                                                                                                                                                                                                                                                                                                                                                                                                                                                                                                                                                                                                                                                                                                                                                                                                                                                                                                                                                                                                                                                                                                                                                                                                                                                                                                                                                                                                                                                                                                                                                                                                                                                                                                                                                                                                                                                                                                                                                                                                                                                                                                                                                                                                                                                                                                                                                                                                                                                                                                                                                                                                                                                                                                                                                                                                                                                                             <img src=\"data:image/png;base64,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\" alt=\"Mol\"/>            CC(C)COC(=O)C(C)Cl       1\n",
       "4     <img src=\"data:image/png;base64,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\" alt=\"Mol\"/>  CO[Si](OC)(c1ccccc1)c1ccccc1       1"
      ]
     },
     "execution_count": 3,
     "metadata": {},
     "output_type": "execute_result"
    }
   ],
   "source": [
    "moldf = moldf[['ID','Mol', 'SMILES','Outcome']]\n",
    "moldf = moldf[(moldf['Outcome']== '0')|(moldf['Outcome']== '1')]\n",
    "print(moldf.shape)\n",
    "moldf.head()"
   ]
  },
  {
   "cell_type": "code",
   "execution_count": 4,
   "metadata": {},
   "outputs": [
    {
     "name": "stdout",
     "output_type": "stream",
     "text": [
      "<class 'pandas.core.frame.DataFrame'>\n",
      "Int64Index: 553 entries, 0 to 553\n",
      "Data columns (total 4 columns):\n",
      "ID         553 non-null object\n",
      "Mol        553 non-null object\n",
      "SMILES     553 non-null object\n",
      "Outcome    553 non-null int64\n",
      "dtypes: int64(1), object(3)\n",
      "memory usage: 21.6+ KB\n"
     ]
    }
   ],
   "source": [
    "moldf.Outcome=pd.to_numeric(moldf.Outcome, errors='coerce')\n",
    "moldf.info()"
   ]
  },
  {
   "cell_type": "markdown",
   "metadata": {},
   "source": [
    "### 2.2 CSV compactado para GZ\n",
    "\n",
    "Os dados devem estar compactados para GZ (Reduz 90% do tamanho do arquivo).<br>\n",
    "Você vai precisar:\n",
    "1. Windows usar o 7-ZIP para compactar\n",
    "1. Linux: gzip nomedoarquivo.csv\n",
    "1. Em geral o encoding utf-8 funciona na maioria dos casos. Se nã uncionar usar o utf-16."
   ]
  },
  {
   "cell_type": "code",
   "execution_count": 5,
   "metadata": {
    "scrolled": true
   },
   "outputs": [
    {
     "ename": "FileNotFoundError",
     "evalue": "[Errno 2] No such file or directory: 'data/fishes_MOA.csv.gz'",
     "output_type": "error",
     "traceback": [
      "\u001b[1;31m---------------------------------------------------------------------------\u001b[0m",
      "\u001b[1;31mFileNotFoundError\u001b[0m                         Traceback (most recent call last)",
      "\u001b[1;32m<ipython-input-5-20568c438159>\u001b[0m in \u001b[0;36m<module>\u001b[1;34m\u001b[0m\n\u001b[0;32m      1\u001b[0m \u001b[1;31m#Caminho do CSV.gz\u001b[0m\u001b[1;33m\u001b[0m\u001b[1;33m\u001b[0m\u001b[1;33m\u001b[0m\u001b[0m\n\u001b[0;32m      2\u001b[0m \u001b[0mfile\u001b[0m\u001b[1;33m=\u001b[0m \u001b[1;34m\"data/fishes_MOA.csv.gz\"\u001b[0m\u001b[1;33m\u001b[0m\u001b[1;33m\u001b[0m\u001b[0m\n\u001b[1;32m----> 3\u001b[1;33m \u001b[0mmoldf\u001b[0m \u001b[1;33m=\u001b[0m \u001b[0mpd\u001b[0m\u001b[1;33m.\u001b[0m\u001b[0mread_csv\u001b[0m\u001b[1;33m(\u001b[0m\u001b[0mfile\u001b[0m\u001b[1;33m,\u001b[0m\u001b[0msep\u001b[0m\u001b[1;33m=\u001b[0m\u001b[1;34m'\\t'\u001b[0m\u001b[1;33m,\u001b[0m \u001b[0mencoding\u001b[0m\u001b[1;33m=\u001b[0m\u001b[1;34m'utf-8'\u001b[0m\u001b[1;33m,\u001b[0m \u001b[0mcompression\u001b[0m\u001b[1;33m=\u001b[0m\u001b[1;34m'gzip'\u001b[0m\u001b[1;33m,\u001b[0m \u001b[0mquoting\u001b[0m\u001b[1;33m=\u001b[0m\u001b[0mcsv\u001b[0m\u001b[1;33m.\u001b[0m\u001b[0mQUOTE_NONNUMERIC\u001b[0m\u001b[1;33m)\u001b[0m\u001b[1;33m\u001b[0m\u001b[1;33m\u001b[0m\u001b[0m\n\u001b[0m\u001b[0;32m      4\u001b[0m \u001b[1;31m#Adicionar a coluna mol\u001b[0m\u001b[1;33m\u001b[0m\u001b[1;33m\u001b[0m\u001b[1;33m\u001b[0m\u001b[0m\n\u001b[0;32m      5\u001b[0m \u001b[0mPandasTools\u001b[0m\u001b[1;33m.\u001b[0m\u001b[0mAddMoleculeColumnToFrame\u001b[0m\u001b[1;33m(\u001b[0m\u001b[0mmoldf\u001b[0m\u001b[1;33m,\u001b[0m \u001b[0msmilesCol\u001b[0m\u001b[1;33m=\u001b[0m\u001b[1;34m'SMILES'\u001b[0m\u001b[1;33m,\u001b[0m \u001b[0mmolCol\u001b[0m\u001b[1;33m=\u001b[0m\u001b[1;34m'Mol'\u001b[0m\u001b[1;33m,\u001b[0m \u001b[0mincludeFingerprints\u001b[0m\u001b[1;33m=\u001b[0m\u001b[1;32mFalse\u001b[0m\u001b[1;33m)\u001b[0m\u001b[1;33m\u001b[0m\u001b[1;33m\u001b[0m\u001b[0m\n",
      "\u001b[1;32m~\\AppData\\Roaming\\Python\\Python36\\site-packages\\pandas\\io\\parsers.py\u001b[0m in \u001b[0;36mparser_f\u001b[1;34m(filepath_or_buffer, sep, delimiter, header, names, index_col, usecols, squeeze, prefix, mangle_dupe_cols, dtype, engine, converters, true_values, false_values, skipinitialspace, skiprows, nrows, na_values, keep_default_na, na_filter, verbose, skip_blank_lines, parse_dates, infer_datetime_format, keep_date_col, date_parser, dayfirst, iterator, chunksize, compression, thousands, decimal, lineterminator, quotechar, quoting, escapechar, comment, encoding, dialect, tupleize_cols, error_bad_lines, warn_bad_lines, skipfooter, skip_footer, doublequote, delim_whitespace, as_recarray, compact_ints, use_unsigned, low_memory, buffer_lines, memory_map, float_precision)\u001b[0m\n\u001b[0;32m    644\u001b[0m                     skip_blank_lines=skip_blank_lines)\n\u001b[0;32m    645\u001b[0m \u001b[1;33m\u001b[0m\u001b[0m\n\u001b[1;32m--> 646\u001b[1;33m         \u001b[1;32mreturn\u001b[0m \u001b[0m_read\u001b[0m\u001b[1;33m(\u001b[0m\u001b[0mfilepath_or_buffer\u001b[0m\u001b[1;33m,\u001b[0m \u001b[0mkwds\u001b[0m\u001b[1;33m)\u001b[0m\u001b[1;33m\u001b[0m\u001b[1;33m\u001b[0m\u001b[0m\n\u001b[0m\u001b[0;32m    647\u001b[0m \u001b[1;33m\u001b[0m\u001b[0m\n\u001b[0;32m    648\u001b[0m     \u001b[0mparser_f\u001b[0m\u001b[1;33m.\u001b[0m\u001b[0m__name__\u001b[0m \u001b[1;33m=\u001b[0m \u001b[0mname\u001b[0m\u001b[1;33m\u001b[0m\u001b[1;33m\u001b[0m\u001b[0m\n",
      "\u001b[1;32m~\\AppData\\Roaming\\Python\\Python36\\site-packages\\pandas\\io\\parsers.py\u001b[0m in \u001b[0;36m_read\u001b[1;34m(filepath_or_buffer, kwds)\u001b[0m\n\u001b[0;32m    387\u001b[0m \u001b[1;33m\u001b[0m\u001b[0m\n\u001b[0;32m    388\u001b[0m     \u001b[1;31m# Create the parser.\u001b[0m\u001b[1;33m\u001b[0m\u001b[1;33m\u001b[0m\u001b[1;33m\u001b[0m\u001b[0m\n\u001b[1;32m--> 389\u001b[1;33m     \u001b[0mparser\u001b[0m \u001b[1;33m=\u001b[0m \u001b[0mTextFileReader\u001b[0m\u001b[1;33m(\u001b[0m\u001b[0mfilepath_or_buffer\u001b[0m\u001b[1;33m,\u001b[0m \u001b[1;33m**\u001b[0m\u001b[0mkwds\u001b[0m\u001b[1;33m)\u001b[0m\u001b[1;33m\u001b[0m\u001b[1;33m\u001b[0m\u001b[0m\n\u001b[0m\u001b[0;32m    390\u001b[0m \u001b[1;33m\u001b[0m\u001b[0m\n\u001b[0;32m    391\u001b[0m     \u001b[1;32mif\u001b[0m \u001b[1;33m(\u001b[0m\u001b[0mnrows\u001b[0m \u001b[1;32mis\u001b[0m \u001b[1;32mnot\u001b[0m \u001b[1;32mNone\u001b[0m\u001b[1;33m)\u001b[0m \u001b[1;32mand\u001b[0m \u001b[1;33m(\u001b[0m\u001b[0mchunksize\u001b[0m \u001b[1;32mis\u001b[0m \u001b[1;32mnot\u001b[0m \u001b[1;32mNone\u001b[0m\u001b[1;33m)\u001b[0m\u001b[1;33m:\u001b[0m\u001b[1;33m\u001b[0m\u001b[1;33m\u001b[0m\u001b[0m\n",
      "\u001b[1;32m~\\AppData\\Roaming\\Python\\Python36\\site-packages\\pandas\\io\\parsers.py\u001b[0m in \u001b[0;36m__init__\u001b[1;34m(self, f, engine, **kwds)\u001b[0m\n\u001b[0;32m    728\u001b[0m             \u001b[0mself\u001b[0m\u001b[1;33m.\u001b[0m\u001b[0moptions\u001b[0m\u001b[1;33m[\u001b[0m\u001b[1;34m'has_index_names'\u001b[0m\u001b[1;33m]\u001b[0m \u001b[1;33m=\u001b[0m \u001b[0mkwds\u001b[0m\u001b[1;33m[\u001b[0m\u001b[1;34m'has_index_names'\u001b[0m\u001b[1;33m]\u001b[0m\u001b[1;33m\u001b[0m\u001b[1;33m\u001b[0m\u001b[0m\n\u001b[0;32m    729\u001b[0m \u001b[1;33m\u001b[0m\u001b[0m\n\u001b[1;32m--> 730\u001b[1;33m         \u001b[0mself\u001b[0m\u001b[1;33m.\u001b[0m\u001b[0m_make_engine\u001b[0m\u001b[1;33m(\u001b[0m\u001b[0mself\u001b[0m\u001b[1;33m.\u001b[0m\u001b[0mengine\u001b[0m\u001b[1;33m)\u001b[0m\u001b[1;33m\u001b[0m\u001b[1;33m\u001b[0m\u001b[0m\n\u001b[0m\u001b[0;32m    731\u001b[0m \u001b[1;33m\u001b[0m\u001b[0m\n\u001b[0;32m    732\u001b[0m     \u001b[1;32mdef\u001b[0m \u001b[0mclose\u001b[0m\u001b[1;33m(\u001b[0m\u001b[0mself\u001b[0m\u001b[1;33m)\u001b[0m\u001b[1;33m:\u001b[0m\u001b[1;33m\u001b[0m\u001b[1;33m\u001b[0m\u001b[0m\n",
      "\u001b[1;32m~\\AppData\\Roaming\\Python\\Python36\\site-packages\\pandas\\io\\parsers.py\u001b[0m in \u001b[0;36m_make_engine\u001b[1;34m(self, engine)\u001b[0m\n\u001b[0;32m    921\u001b[0m     \u001b[1;32mdef\u001b[0m \u001b[0m_make_engine\u001b[0m\u001b[1;33m(\u001b[0m\u001b[0mself\u001b[0m\u001b[1;33m,\u001b[0m \u001b[0mengine\u001b[0m\u001b[1;33m=\u001b[0m\u001b[1;34m'c'\u001b[0m\u001b[1;33m)\u001b[0m\u001b[1;33m:\u001b[0m\u001b[1;33m\u001b[0m\u001b[1;33m\u001b[0m\u001b[0m\n\u001b[0;32m    922\u001b[0m         \u001b[1;32mif\u001b[0m \u001b[0mengine\u001b[0m \u001b[1;33m==\u001b[0m \u001b[1;34m'c'\u001b[0m\u001b[1;33m:\u001b[0m\u001b[1;33m\u001b[0m\u001b[1;33m\u001b[0m\u001b[0m\n\u001b[1;32m--> 923\u001b[1;33m             \u001b[0mself\u001b[0m\u001b[1;33m.\u001b[0m\u001b[0m_engine\u001b[0m \u001b[1;33m=\u001b[0m \u001b[0mCParserWrapper\u001b[0m\u001b[1;33m(\u001b[0m\u001b[0mself\u001b[0m\u001b[1;33m.\u001b[0m\u001b[0mf\u001b[0m\u001b[1;33m,\u001b[0m \u001b[1;33m**\u001b[0m\u001b[0mself\u001b[0m\u001b[1;33m.\u001b[0m\u001b[0moptions\u001b[0m\u001b[1;33m)\u001b[0m\u001b[1;33m\u001b[0m\u001b[1;33m\u001b[0m\u001b[0m\n\u001b[0m\u001b[0;32m    924\u001b[0m         \u001b[1;32melse\u001b[0m\u001b[1;33m:\u001b[0m\u001b[1;33m\u001b[0m\u001b[1;33m\u001b[0m\u001b[0m\n\u001b[0;32m    925\u001b[0m             \u001b[1;32mif\u001b[0m \u001b[0mengine\u001b[0m \u001b[1;33m==\u001b[0m \u001b[1;34m'python'\u001b[0m\u001b[1;33m:\u001b[0m\u001b[1;33m\u001b[0m\u001b[1;33m\u001b[0m\u001b[0m\n",
      "\u001b[1;32m~\\AppData\\Roaming\\Python\\Python36\\site-packages\\pandas\\io\\parsers.py\u001b[0m in \u001b[0;36m__init__\u001b[1;34m(self, src, **kwds)\u001b[0m\n\u001b[0;32m   1388\u001b[0m         \u001b[0mkwds\u001b[0m\u001b[1;33m[\u001b[0m\u001b[1;34m'allow_leading_cols'\u001b[0m\u001b[1;33m]\u001b[0m \u001b[1;33m=\u001b[0m \u001b[0mself\u001b[0m\u001b[1;33m.\u001b[0m\u001b[0mindex_col\u001b[0m \u001b[1;32mis\u001b[0m \u001b[1;32mnot\u001b[0m \u001b[1;32mFalse\u001b[0m\u001b[1;33m\u001b[0m\u001b[1;33m\u001b[0m\u001b[0m\n\u001b[0;32m   1389\u001b[0m \u001b[1;33m\u001b[0m\u001b[0m\n\u001b[1;32m-> 1390\u001b[1;33m         \u001b[0mself\u001b[0m\u001b[1;33m.\u001b[0m\u001b[0m_reader\u001b[0m \u001b[1;33m=\u001b[0m \u001b[0m_parser\u001b[0m\u001b[1;33m.\u001b[0m\u001b[0mTextReader\u001b[0m\u001b[1;33m(\u001b[0m\u001b[0msrc\u001b[0m\u001b[1;33m,\u001b[0m \u001b[1;33m**\u001b[0m\u001b[0mkwds\u001b[0m\u001b[1;33m)\u001b[0m\u001b[1;33m\u001b[0m\u001b[1;33m\u001b[0m\u001b[0m\n\u001b[0m\u001b[0;32m   1391\u001b[0m \u001b[1;33m\u001b[0m\u001b[0m\n\u001b[0;32m   1392\u001b[0m         \u001b[1;31m# XXX\u001b[0m\u001b[1;33m\u001b[0m\u001b[1;33m\u001b[0m\u001b[1;33m\u001b[0m\u001b[0m\n",
      "\u001b[1;32mpandas\\parser.pyx\u001b[0m in \u001b[0;36mpandas.parser.TextReader.__cinit__ (pandas\\parser.c:4184)\u001b[1;34m()\u001b[0m\n",
      "\u001b[1;32mpandas\\parser.pyx\u001b[0m in \u001b[0;36mpandas.parser.TextReader._setup_parser_source (pandas\\parser.c:7348)\u001b[1;34m()\u001b[0m\n",
      "\u001b[1;32m~\\AppData\\Local\\conda\\conda\\envs\\my-rdkit-env\\lib\\gzip.py\u001b[0m in \u001b[0;36m__init__\u001b[1;34m(self, filename, mode, compresslevel, fileobj, mtime)\u001b[0m\n\u001b[0;32m    161\u001b[0m             \u001b[0mmode\u001b[0m \u001b[1;33m+=\u001b[0m \u001b[1;34m'b'\u001b[0m\u001b[1;33m\u001b[0m\u001b[1;33m\u001b[0m\u001b[0m\n\u001b[0;32m    162\u001b[0m         \u001b[1;32mif\u001b[0m \u001b[0mfileobj\u001b[0m \u001b[1;32mis\u001b[0m \u001b[1;32mNone\u001b[0m\u001b[1;33m:\u001b[0m\u001b[1;33m\u001b[0m\u001b[1;33m\u001b[0m\u001b[0m\n\u001b[1;32m--> 163\u001b[1;33m             \u001b[0mfileobj\u001b[0m \u001b[1;33m=\u001b[0m \u001b[0mself\u001b[0m\u001b[1;33m.\u001b[0m\u001b[0mmyfileobj\u001b[0m \u001b[1;33m=\u001b[0m \u001b[0mbuiltins\u001b[0m\u001b[1;33m.\u001b[0m\u001b[0mopen\u001b[0m\u001b[1;33m(\u001b[0m\u001b[0mfilename\u001b[0m\u001b[1;33m,\u001b[0m \u001b[0mmode\u001b[0m \u001b[1;32mor\u001b[0m \u001b[1;34m'rb'\u001b[0m\u001b[1;33m)\u001b[0m\u001b[1;33m\u001b[0m\u001b[1;33m\u001b[0m\u001b[0m\n\u001b[0m\u001b[0;32m    164\u001b[0m         \u001b[1;32mif\u001b[0m \u001b[0mfilename\u001b[0m \u001b[1;32mis\u001b[0m \u001b[1;32mNone\u001b[0m\u001b[1;33m:\u001b[0m\u001b[1;33m\u001b[0m\u001b[1;33m\u001b[0m\u001b[0m\n\u001b[0;32m    165\u001b[0m             \u001b[0mfilename\u001b[0m \u001b[1;33m=\u001b[0m \u001b[0mgetattr\u001b[0m\u001b[1;33m(\u001b[0m\u001b[0mfileobj\u001b[0m\u001b[1;33m,\u001b[0m \u001b[1;34m'name'\u001b[0m\u001b[1;33m,\u001b[0m \u001b[1;34m''\u001b[0m\u001b[1;33m)\u001b[0m\u001b[1;33m\u001b[0m\u001b[1;33m\u001b[0m\u001b[0m\n",
      "\u001b[1;31mFileNotFoundError\u001b[0m: [Errno 2] No such file or directory: 'data/fishes_MOA.csv.gz'"
     ]
    }
   ],
   "source": [
    "#Caminho do CSV.gz\n",
    "file= \"data/fishes_MOA.csv.gz\"\n",
    "moldf = pd.read_csv(file,sep='\\t', encoding='utf-8', compression='gzip', quoting=csv.QUOTE_NONNUMERIC)\n",
    "#Adicionar a coluna mol\n",
    "PandasTools.AddMoleculeColumnToFrame(moldf, smilesCol='SMILES', molCol='Mol', includeFingerprints=False)\n",
    "\n",
    "#duplicatas by smiles\n",
    "moldf = moldf.drop_duplicates(subset=['SMILES'])\n",
    "#logP\n",
    "moldf['logP'] = moldf['Mol'].apply(MolLogP)\n",
    "#Remove moléculas sem esrtutura no RDKit\n",
    "moldf = moldf[pd.notnull(moldf['Mol'])]\n",
    "#Colunas no pandas\n",
    "moldf.keys()"
   ]
  },
  {
   "cell_type": "markdown",
   "metadata": {},
   "source": [
    "### 3. Definir a coluna a ser usada como variável dependente"
   ]
  },
  {
   "cell_type": "code",
   "execution_count": null,
   "metadata": {},
   "outputs": [],
   "source": [
    "moldf = moldf.rename(columns={'Outcome': 'Outcome'})"
   ]
  },
  {
   "cell_type": "code",
   "execution_count": null,
   "metadata": {},
   "outputs": [],
   "source": [
    "moldf.head(1)"
   ]
  },
  {
   "cell_type": "code",
   "execution_count": null,
   "metadata": {},
   "outputs": [],
   "source": [
    "moldf= moldf.sort_values(['Outcome'], ascending=True)\n",
    "moldf['RowID'] = moldf.index\n",
    "moldf.head(300)"
   ]
  },
  {
   "cell_type": "markdown",
   "metadata": {},
   "source": [
    "## 4. Definir a coluna a ser usada como variável dependente"
   ]
  },
  {
   "cell_type": "code",
   "execution_count": null,
   "metadata": {},
   "outputs": [],
   "source": [
    "from sklearn.preprocessing import LabelEncoder\n",
    "le = LabelEncoder()\n",
    "\n",
    "\n",
    "outcomes=(np.unique(moldf['Outcome']))\n",
    "le.fit(list(set(outcomes)))\n",
    "y = le.transform( moldf['Outcome'] )\n",
    "\n",
    "\n",
    "\n",
    "print (\"Classes                          : \",(outcomes))\n",
    "print (\"Number of cpds in each class     : \",np.unique([len(y[y==smi]) for smi in y]))\n",
    "print (\"Total number of cpds             : \",len(y))\n",
    "\n",
    "S = moldf['Outcome']\n",
    "info = {}\n",
    "for i,cls in enumerate(S.unique()):\n",
    "    info.update({cls:i})\n",
    "    S = S.replace(cls,i)"
   ]
  },
  {
   "cell_type": "code",
   "execution_count": null,
   "metadata": {},
   "outputs": [],
   "source": [
    "ax = S.hist(bins=np.arange(-0.5,5))\n",
    "ax.set_xticks(range(0,5))\n",
    "info"
   ]
  },
  {
   "cell_type": "markdown",
   "metadata": {},
   "source": [
    "## 5. Descritor e Modelagem"
   ]
  },
  {
   "cell_type": "code",
   "execution_count": null,
   "metadata": {},
   "outputs": [],
   "source": [
    "nBits = 1024\n",
    "radius=2\n",
    "useFeatures= False\n",
    "\n",
    "calcfp = lambda mol: GetMorganFingerprintAsBitVect(mol,nBits=nBits,radius=radius, useFeatures=useFeatures)\n",
    "moldf['Descriptors'] = moldf.Mol.apply(calcfp)\n",
    "\n",
    "y= np.int32((S))\n",
    "x = np.array(list(moldf['Descriptors']))"
   ]
  },
  {
   "cell_type": "code",
   "execution_count": null,
   "metadata": {},
   "outputs": [],
   "source": [
    "############################################## Random Forest ##################################################\n",
    "paramgrid = {\"max_features\": [x.shape[1] , x.shape[1] // 2,  x.shape[1] // 4,  x.shape[1] // 12,  x.shape[1] // 10, x.shape[1] // 7, x.shape[1] // 5, x.shape[1] // 3 ],\n",
    "             \"n_estimators\": [ 10, 100, 300, 500], }\n",
    "\n",
    "\n",
    "from sklearn.model_selection import RepeatedKFold\n",
    "from evolutionary_search import EvolutionaryAlgorithmSearchCV\n",
    "\n",
    "\n",
    "ncores=1\n",
    "verbose=1\n",
    "seed = 24\n",
    "\n",
    "np.random.seed(seed)\n",
    "\n",
    "# Kappa Scorer \n",
    "kappa_scorer = metrics.make_scorer(quadratic_weighted_kappa, greater_is_better = True)\n",
    "\n",
    "\n",
    "\n",
    "model = EvolutionaryAlgorithmSearchCV(estimator=RF(class_weight=None),\n",
    "                                   params=paramgrid,\n",
    "                                   scoring=kappa_scorer,\n",
    "                                   cv = StratifiedShuffleSplit(n_splits=5, test_size=0.2, random_state=seed),\n",
    "                                   verbose=1,\n",
    "                                   population_size=50,\n",
    "                                   gene_mutation_prob=0.10,\n",
    "                                   gene_crossover_prob=0.5,\n",
    "                                   tournament_size=3,\n",
    "                                   generations_number=5,\n",
    "                                   iid=True,\n",
    "                                   refit=True,\n",
    "                                   n_jobs=ncores)\n",
    "\n",
    "model.fit(x, y)\n",
    "\n",
    "# Get best model\n",
    "best_model = model.best_estimator_\n",
    "\n",
    "# Fit model with best parameters optimized for quadratic_weighted_kappa\n",
    "best_model.fit(x,y)\n",
    "\n",
    "\n"
   ]
  },
  {
   "cell_type": "markdown",
   "metadata": {},
   "source": [
    "## 6. Avaliação Externa e Parametros Estatísticos"
   ]
  },
  {
   "cell_type": "markdown",
   "metadata": {},
   "source": [
    "### 6.1 5-Fold Externo com todos os dados"
   ]
  },
  {
   "cell_type": "code",
   "execution_count": null,
   "metadata": {},
   "outputs": [],
   "source": [
    " ypreds_folds_total_final,index_test_folds_final, training_labels_AD_final_conc,training_labels_pred_AD_final_conc, y_obs_folds, test_index_ad_final_conc, Dc,index_train_folds, index_test_folds, ypreds_folds, yproba_folds, k  = AD_scikitlearn(x,y,seed=seed, model_name= best_model)\n",
    "run_statistics(y_obs_folds, ypreds_folds_total_final, label=\"RF external 5-fold CV\", coverage=100)"
   ]
  },
  {
   "cell_type": "markdown",
   "metadata": {},
   "source": [
    "### 6.2 5-Fold Externo somente com os dados no AD"
   ]
  },
  {
   "cell_type": "code",
   "execution_count": null,
   "metadata": {},
   "outputs": [],
   "source": [
    "coverage=(((len(training_labels_AD_final_conc))*100)/(float(len(index_test_folds_final)*100))*100)\n",
    "run_statistics(training_labels_AD_final_conc, training_labels_pred_AD_final_conc, label=\"RF external 5-fold CV\", coverage=coverage)"
   ]
  },
  {
   "cell_type": "markdown",
   "metadata": {},
   "source": [
    "# 7. Preparar os dados para salvar"
   ]
  },
  {
   "cell_type": "markdown",
   "metadata": {},
   "source": [
    "### Atributos:\n",
    "\n",
    "* molecules:\n",
    "     `pandas.DataFrame()` com os descritores moleculares para o dataset* (usado na `similarity_table()`)\n",
    "* descriptor:\n",
    "    *`dict()` com informações do descritor utilizado (usado na `similarity_table()`)\n",
    "        * function: função de calcular o descritor\n",
    "        * info: `dict()` com os argumentos de entrada da função\n",
    "        * name: nome do descritor\n",
    "* models:\n",
    "    * `list()` de `dict()` com os dados dos modelos:\n",
    "        * model: modelo de predição do `scikit-learn`\n",
    "        * name: nome do modelo\n",
    "        * longname: descrição curta do modelo\n",
    "        * descriptor: `dict()` com informações do descritor utilizado\n",
    "            * function: função de calcular o descritor\n",
    "            * info: `dict()` com os argumentos de entrada da função\n",
    "            * name: nome do descritor\n",
    "         fpDF: `pandas.DataFrame()` com os descritores moleculares para o dataset*\n",
    "        * dataset: `pandas.DataFrame()` com as informações moleculares de validação do modelo\n",
    "         applM: distribuição de similaridade do k*-vizinho mais próximo calculada para toda dataset\n",
    "        * k: ordinal do vizinho mais próximo calculado para o dataset\n",
    "        * dda: limite estabelecido para que a molécula esteja no domínio de aplicabilidade do modelo\n",
    "\n",
    "### Métodos:\n",
    "\n",
    "* `model_table()`:\n",
    "    * Gera a tabela (`pandas.DataFrame()`) de resultados dos modelos\n",
    "* `AD_table()`:\n",
    "    * Gera a tabela (`pandas.DataFrame()`) de domínio de aplicabilidade dos modelos\n",
    "* `similarity_table`:\n",
    "    * Gera a tabela (`pandas.DataFrame()`) dos mapas de similaridade das `n` moléculas mais próximas.\n",
    "    * Gera dados de similaridade que serão usados pela função `similarity_statistics()`\n",
    "    \n",
    "##  7.1 Gerando a tabela de dados com todas predições para cada fold"
   ]
  },
  {
   "cell_type": "code",
   "execution_count": null,
   "metadata": {},
   "outputs": [],
   "source": [
    "#Get all external Folds and save in Excel format\n",
    "\n",
    "all_ext_Folds = pd.DataFrame()\n",
    "for foldnum in range(1,5+1):\n",
    "    for rep in range(1,5+1):\n",
    "        final_frame = (len(moldf)-1) \n",
    "        fold_N= index_test_folds[foldnum-1]\n",
    "        pred_N= ypreds_folds[foldnum-1]\n",
    "        proba_N = yproba_folds[foldnum-1]\n",
    "        \n",
    "        tab = moldf.iloc[fold_N,:]\n",
    "        tab['Prediction'] = pred_N\n",
    "        tab['Confiability'] = proba_N\n",
    "        tab['Fold'] = 'Fold {:d} extenal Repetition {:d}'.format(foldnum,rep)\n",
    "\n",
    "        all_ext_Folds = all_ext_Folds.append(tab).reset_index(drop=True)\n",
    "\n",
    "\n",
    "cols = ['ROMol','SMILES','Outcome','Prediction','Fold']\n",
    "\n",
    "### melhorar ##\n",
    "dX = dict()\n",
    "[dX.update({i:[val]}) for i,val in enumerate(x)]\n",
    "dfX = pd.DataFrame.from_dict(dX).T\n",
    "dfX.columns=['FingerPrint']\n",
    "dfX['SMILES'] = moldf['SMILES']\n",
    "\n",
    "#########################\n",
    "\n",
    "Dict_AD = {}\n",
    "Dict_AD[\"FingerPrint\"] = dfX\n",
    "Dict_AD[\"Folds\"] = all_ext_Folds\n",
    "Dict_AD[\"k\"] = k\n",
    "Dict_AD[\"AD.distance.limit\"] = Dc.mean()\n",
    "Dict_AD[\"distance_AD\"] = np.asarray(getNeighborsDitance(x, x, k))\n",
    "Folds_true= Dict_AD[\"Folds\"]\n",
    "Folds_true = Folds_true.drop('Descriptors', 1)\n",
    "\n"
   ]
  },
  {
   "cell_type": "markdown",
   "metadata": {},
   "source": [
    "###  7.1.1 Mostrando a tabela de dados com todas predições para cada fold (last one)"
   ]
  },
  {
   "cell_type": "code",
   "execution_count": null,
   "metadata": {},
   "outputs": [],
   "source": [
    "Folds_true.head()"
   ]
  },
  {
   "cell_type": "code",
   "execution_count": null,
   "metadata": {},
   "outputs": [],
   "source": [
    "\n",
    "newKeys = {'FingerPrint':'fpDF', 'Folds':'molDF',\n",
    "        'k':'k', 'AD.distance.limit':'dda',\n",
    "        'distance_AD':'applM'}\n",
    "\n",
    "    # Renomeando as chaves\n",
    "Dict_AD = {newKeys[key]:value for key,value in Dict_AD.items()}\n",
    "    # Filtrando a tabela\n",
    "Dict_AD['molDF'] = filter_table(Dict_AD['molDF'])\n",
    "\n",
    "Dict_AD['molDF']['mol'] = list(map(Chem.MolFromSmiles,Dict_AD['molDF'].index))\n"
   ]
  },
  {
   "cell_type": "markdown",
   "metadata": {},
   "source": [
    "##  7.2 Definir as categorias (resultado médias dos folds por molécula)"
   ]
  },
  {
   "cell_type": "code",
   "execution_count": null,
   "metadata": {},
   "outputs": [],
   "source": [
    "Dict_AD['molDF']['Prediction']=np.where(Dict_AD['molDF']['Prediction']>=0.6, 'Irritant', 'Non-Irritant')\n",
    "Dict_AD['molDF'].head()"
   ]
  },
  {
   "cell_type": "markdown",
   "metadata": {},
   "source": [
    "##  7.3 Mostras a distribuição da similaridade dos dados  AD"
   ]
  },
  {
   "cell_type": "code",
   "execution_count": null,
   "metadata": {},
   "outputs": [],
   "source": [
    "import matplotlib.pyplot as plt\n",
    "plt.hist(Dict_AD['applM'])"
   ]
  },
  {
   "cell_type": "markdown",
   "metadata": {},
   "source": [
    "#  8. Salvando modelo e os dados adicionais"
   ]
  },
  {
   "cell_type": "code",
   "execution_count": null,
   "metadata": {},
   "outputs": [],
   "source": [
    "from sklearn.externals import joblib\n",
    "joblib.dump(best_model, 'model/Modelo_skin_irrit_morgan.pkl',compress=9)"
   ]
  },
  {
   "cell_type": "code",
   "execution_count": null,
   "metadata": {},
   "outputs": [],
   "source": [
    "import bz2\n",
    "import pickle\n",
    "import _pickle as cPickle\n",
    "with bz2.BZ2File('model/Dados_adicionais_skin_irrit_morgan.pbz2', 'w') as f:\n",
    "    pickle.dump(Dict_AD, f)\n",
    "    "
   ]
  },
  {
   "cell_type": "code",
   "execution_count": null,
   "metadata": {},
   "outputs": [],
   "source": []
  }
 ],
 "metadata": {
  "kernelspec": {
   "display_name": "Python 3",
   "language": "python",
   "name": "python3"
  },
  "language_info": {
   "codemirror_mode": {
    "name": "ipython",
    "version": 3
   },
   "file_extension": ".py",
   "mimetype": "text/x-python",
   "name": "python",
   "nbconvert_exporter": "python",
   "pygments_lexer": "ipython3",
   "version": "3.6.7"
  }
 },
 "nbformat": 4,
 "nbformat_minor": 2
}
