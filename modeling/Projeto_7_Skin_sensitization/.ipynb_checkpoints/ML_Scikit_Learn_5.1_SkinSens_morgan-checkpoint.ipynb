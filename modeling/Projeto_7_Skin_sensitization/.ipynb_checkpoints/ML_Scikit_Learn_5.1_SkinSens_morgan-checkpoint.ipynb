{
 "cells": [
  {
   "cell_type": "markdown",
   "metadata": {},
   "source": [
    "## 1. Importando módulos e funções\n",
    "    Por: Rodolpho C. Braga (RCB)                  02 de Novembro de 2018.\n",
    "         \n",
    "    "
   ]
  },
  {
   "cell_type": "code",
   "execution_count": 1,
   "metadata": {},
   "outputs": [
    {
     "name": "stdout",
     "output_type": "stream",
     "text": [
      "  * could not import Bokeh, plotting with Highcharts instead.\n",
      "- no local installation of highcharts found, using web version.\n",
      "- loading highcharts...\n"
     ]
    },
    {
     "data": {
      "text/html": [
       "\n",
       "<script src=\"http://code.highcharts.com/highcharts.js\"></script>\n",
       "<script src=\"http://code.highcharts.com/highcharts-more.js\"></script>\n",
       "<script src=\"http://code.highcharts.com/modules/heatmap.js\"></script>\n",
       "<script src=\"http://code.highcharts.com/modules/exporting.js\"></script>\n"
      ],
      "text/plain": [
       "<IPython.core.display.HTML object>"
      ]
     },
     "metadata": {},
     "output_type": "display_data"
    },
    {
     "name": "stdout",
     "output_type": "stream",
     "text": [
      "* SA scorer not available. RDKit's Contrib dir needs to be in the Python import path...\n",
      "rdkit_ipynb_tools.tools                       (171025-07:16)\n",
      "- no local installation of JSME found, using web version.\n",
      "* SA scorer not available. RDKit's Contrib dir needs to be in the Python import path...\n",
      "> interactive IPython session.\n",
      "rdkit_ipynb_tools.sar                         (180320-16:59)\n"
     ]
    },
    {
     "name": "stderr",
     "output_type": "stream",
     "text": [
      "Using TensorFlow backend.\n"
     ]
    }
   ],
   "source": [
    "import numpy as np\n",
    "import pandas as pd\n",
    "from rdkit import Chem\n",
    "from rdkit.Chem.Descriptors import MolLogP\n",
    "from sklearn.metrics import confusion_matrix,accuracy_score,f1_score\n",
    "from rdkit.Chem.AllChem import GetMorganFingerprintAsBitVect\n",
    "from rdkit.Chem import Descriptors\n",
    "import sys\n",
    "import multiprocessing\n",
    "from standardiser import break_bonds, neutralise, rules, unsalt\n",
    "from standardiser.utils import StandardiseException, sanity_check\n",
    "%reload_ext autoreload\n",
    "%autoreload 2\n",
    "def warn(*args, **kwargs):\n",
    "    pass  # to suppress sklearn warnings\n",
    "import warnings\n",
    "warnings.filterwarnings(\"ignore\")\n",
    "warnings.warn = warn\n",
    "from rdkit.Chem import AllChem as Chem\n",
    "from rdkit.Chem import Draw\n",
    "from rdkit.Chem.Draw import IPythonConsole\n",
    "import sys\n",
    "sys.path.append(\"../../\")\n",
    "from rdkit_ipynb_tools import tools\n",
    "from rdkit_ipynb_tools import  pipeline as p\n",
    "from rdkit_ipynb_tools import  sar\n",
    "from sklearn.metrics import cohen_kappa_score\n",
    "import csv\n",
    "from rdkit.Chem import MACCSkeys\n",
    "from sklearn.model_selection import ShuffleSplit\n",
    "import _pickle as cPickle\n",
    "from sklearn.model_selection import RepeatedStratifiedKFold\n",
    "from sklearn.model_selection import StratifiedShuffleSplit    \n",
    "import bz2\n",
    "from glob import glob\n",
    "import _pickle as cPickle\n",
    "import pickle\n",
    "# The next two lines are for optical reasons only. They can be safely disabled.\n",
    "Draw.DrawingOptions.atomLabelFontFace = \"DejaVu Sans\"\n",
    "Draw.DrawingOptions.atomLabelFontSize = 18\n",
    "\n",
    "#Modeling tools\n",
    "exec(open('../../rdkit_ipynb_tools/modeling.py').read())\n",
    "\n",
    "#Alerts Single rule pattern\n",
    "\n",
    "#Alerts multicategory\n",
    "# exec(open('../../rdkit_ipynb_tools/alerts.py').read())\n",
    "\n",
    "#Alerts Cross Rules (complex)"
   ]
  },
  {
   "cell_type": "markdown",
   "metadata": {},
   "source": [
    "## 2. Entrada dos dados\n",
    "\n",
    "Escolher a formda da entrada dos dados:\n",
    "1. SDF\n",
    "1. CSV"
   ]
  },
  {
   "cell_type": "markdown",
   "metadata": {},
   "source": [
    "### 2.1 SDF"
   ]
  },
  {
   "cell_type": "code",
   "execution_count": 2,
   "metadata": {},
   "outputs": [
    {
     "name": "stdout",
     "output_type": "stream",
     "text": [
      "(999, 8)\n",
      "(999, 9)\n"
     ]
    },
    {
     "data": {
      "text/plain": [
       "Index(['CASRN', 'Compound name', 'ID', 'LLNA class', 'LLNA reference', 'LLNA result', 'Mol', 'SMILES', 'logP'], dtype='object')"
      ]
     },
     "execution_count": 2,
     "metadata": {},
     "output_type": "execute_result"
    }
   ],
   "source": [
    "#Caminho do SDF\n",
    "file= \"data/skin_sens.sdf\"\n",
    "\n",
    "sdfInfo = dict(smilesName='SMILES',molColName='ROMol')\n",
    "moldf = PandasTools.LoadSDF(file,**sdfInfo)\n",
    "print(moldf.shape)\n",
    "#Rename ROMol\n",
    "moldf = moldf.rename(columns={'ROMol': 'Mol'})\n",
    "#duplicatas by smiles\n",
    "moldf = moldf.drop_duplicates(subset=['SMILES'])\n",
    "#logP\n",
    "moldf['logP'] = moldf['Mol'].apply(MolLogP)\n",
    "#Remove moléculas sem esrtutura no RDKit\n",
    "moldf = moldf[pd.notnull(moldf['Mol'])]\n",
    "print(moldf.shape)\n",
    "#Colunas no pandas\n",
    "moldf.keys()"
   ]
  },
  {
   "cell_type": "markdown",
   "metadata": {},
   "source": [
    "### 2.2 CSV compactado para GZ\n",
    "\n",
    "Os dados devem estar compactados para GZ (Reduz 90% do tamanho do arquivo).<br>\n",
    "Você vai precisar:\n",
    "1. Windows usar o 7-ZIP para compactar\n",
    "1. Linux: gzip nomedoarquivo.csv\n",
    "1. Em geral o encoding utf-8 funciona na maioria dos casos. Se nã uncionar usar o utf-16."
   ]
  },
  {
   "cell_type": "markdown",
   "metadata": {},
   "source": [
    "### 3. Definir a coluna a ser usada como variável dependente"
   ]
  },
  {
   "cell_type": "code",
   "execution_count": 3,
   "metadata": {},
   "outputs": [],
   "source": [
    "moldf = moldf.rename(columns={'Outcome': 'Outcome'})"
   ]
  },
  {
   "cell_type": "code",
   "execution_count": 4,
   "metadata": {},
   "outputs": [
    {
     "data": {
      "text/html": [
       "<table border=\"1\" class=\"dataframe\">\n",
       "  <thead>\n",
       "    <tr style=\"text-align: right;\">\n",
       "      <th></th>\n",
       "      <th>CASRN</th>\n",
       "      <th>Compound name</th>\n",
       "      <th>ID</th>\n",
       "      <th>LLNA class</th>\n",
       "      <th>LLNA reference</th>\n",
       "      <th>LLNA result</th>\n",
       "      <th>Mol</th>\n",
       "      <th>SMILES</th>\n",
       "      <th>logP</th>\n",
       "    </tr>\n",
       "  </thead>\n",
       "  <tbody>\n",
       "    <tr>\n",
       "      <th>0</th>\n",
       "      <td>2634-33-5</td>\n",
       "      <td>1,2-Benzisothiazolin-3-one</td>\n",
       "      <td></td>\n",
       "      <td>Moderate</td>\n",
       "      <td>ICCVAM (2013)</td>\n",
       "      <td>1</td>\n",
       "      <td><img src=\"data:image/png;base64,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\" alt=\"Mol\"/></td>\n",
       "      <td>O=c1[nH]sc2ccccc12</td>\n",
       "      <td>1.5896</td>\n",
       "    </tr>\n",
       "  </tbody>\n",
       "</table>"
      ],
      "text/plain": [
       "       CASRN               Compound name ID LLNA class LLNA reference LLNA result                                                                                                                                                                                                                                                                                                                                                                                                                                                                                                                                                                                                                                                                                                                                                                                                                                                                                                                                                                                                                                                                                                                                                                                                                                                                                                                                                                                                                                                                                                                                                                                                                                                                                                                                                                                                                                                                                                                                                                                                                                                                                                                                                                                                                                                                                                                                                                                                                                                                                                                                                                                                                                                                                                                                                                                                                                                                                                                                                                                                                                                                                                                                                                                                                                                                                                                                                                                                                                                                                                                                                                                                                                                                                                                                                                                                                                                                                                                                                                                                                                                                                                                                                                                                                                                                                                                                                                                                                                                                                                                                                                                                                                                                                                                                                                                                                                                                                                                                                                                                                                                                                                                                                                                                                                                                                                                                                                                                                                                                                                                                                                                                                                                                                                                                                                                                                                                                                                                                                                                                                                                                                                                                                                                                                                                                                                                                                                                                                                                                                                                                                                                                                                                                                                                                                                                                                                                                                                                                                                                                                                                                                                                                                                                                                                                                                                                                                                                                                                                                                                                                                                                                                                                                                                                                                                                                                                                                                                                                                                                                                                                                                                                                                                                                                                                                                                                                                                                                                                                                                                                                                                                                                                                                                                                Mol              SMILES    logP\n",
       "0  2634-33-5  1,2-Benzisothiazolin-3-one      Moderate  ICCVAM (2013)           1  <img src=\"data:image/png;base64,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\" alt=\"Mol\"/>  O=c1[nH]sc2ccccc12  1.5896"
      ]
     },
     "execution_count": 4,
     "metadata": {},
     "output_type": "execute_result"
    }
   ],
   "source": [
    "moldf.head(1)"
   ]
  },
  {
   "cell_type": "code",
   "execution_count": 5,
   "metadata": {},
   "outputs": [
    {
     "ename": "KeyError",
     "evalue": "'Outcome'",
     "output_type": "error",
     "traceback": [
      "\u001b[1;31m---------------------------------------------------------------------------\u001b[0m",
      "\u001b[1;31mKeyError\u001b[0m                                  Traceback (most recent call last)",
      "\u001b[1;32m~\\AppData\\Roaming\\Python\\Python36\\site-packages\\pandas\\indexes\\base.py\u001b[0m in \u001b[0;36mget_loc\u001b[1;34m(self, key, method, tolerance)\u001b[0m\n\u001b[0;32m   2133\u001b[0m             \u001b[1;32mtry\u001b[0m\u001b[1;33m:\u001b[0m\u001b[1;33m\u001b[0m\u001b[1;33m\u001b[0m\u001b[0m\n\u001b[1;32m-> 2134\u001b[1;33m                 \u001b[1;32mreturn\u001b[0m \u001b[0mself\u001b[0m\u001b[1;33m.\u001b[0m\u001b[0m_engine\u001b[0m\u001b[1;33m.\u001b[0m\u001b[0mget_loc\u001b[0m\u001b[1;33m(\u001b[0m\u001b[0mkey\u001b[0m\u001b[1;33m)\u001b[0m\u001b[1;33m\u001b[0m\u001b[1;33m\u001b[0m\u001b[0m\n\u001b[0m\u001b[0;32m   2135\u001b[0m             \u001b[1;32mexcept\u001b[0m \u001b[0mKeyError\u001b[0m\u001b[1;33m:\u001b[0m\u001b[1;33m\u001b[0m\u001b[1;33m\u001b[0m\u001b[0m\n",
      "\u001b[1;32mpandas\\index.pyx\u001b[0m in \u001b[0;36mpandas.index.IndexEngine.get_loc (pandas\\index.c:4433)\u001b[1;34m()\u001b[0m\n",
      "\u001b[1;32mpandas\\index.pyx\u001b[0m in \u001b[0;36mpandas.index.IndexEngine.get_loc (pandas\\index.c:4279)\u001b[1;34m()\u001b[0m\n",
      "\u001b[1;32mpandas\\src\\hashtable_class_helper.pxi\u001b[0m in \u001b[0;36mpandas.hashtable.PyObjectHashTable.get_item (pandas\\hashtable.c:13742)\u001b[1;34m()\u001b[0m\n",
      "\u001b[1;32mpandas\\src\\hashtable_class_helper.pxi\u001b[0m in \u001b[0;36mpandas.hashtable.PyObjectHashTable.get_item (pandas\\hashtable.c:13696)\u001b[1;34m()\u001b[0m\n",
      "\u001b[1;31mKeyError\u001b[0m: 'Outcome'",
      "\nDuring handling of the above exception, another exception occurred:\n",
      "\u001b[1;31mKeyError\u001b[0m                                  Traceback (most recent call last)",
      "\u001b[1;32m<ipython-input-5-ed44048c568a>\u001b[0m in \u001b[0;36m<module>\u001b[1;34m\u001b[0m\n\u001b[1;32m----> 1\u001b[1;33m \u001b[0mmoldf\u001b[0m\u001b[1;33m=\u001b[0m \u001b[0mmoldf\u001b[0m\u001b[1;33m.\u001b[0m\u001b[0msort_values\u001b[0m\u001b[1;33m(\u001b[0m\u001b[1;33m[\u001b[0m\u001b[1;34m'Outcome'\u001b[0m\u001b[1;33m]\u001b[0m\u001b[1;33m,\u001b[0m \u001b[0mascending\u001b[0m\u001b[1;33m=\u001b[0m\u001b[1;32mTrue\u001b[0m\u001b[1;33m)\u001b[0m\u001b[1;33m\u001b[0m\u001b[1;33m\u001b[0m\u001b[0m\n\u001b[0m\u001b[0;32m      2\u001b[0m \u001b[0mmoldf\u001b[0m\u001b[1;33m[\u001b[0m\u001b[1;34m'RowID'\u001b[0m\u001b[1;33m]\u001b[0m \u001b[1;33m=\u001b[0m \u001b[0mmoldf\u001b[0m\u001b[1;33m.\u001b[0m\u001b[0mindex\u001b[0m\u001b[1;33m\u001b[0m\u001b[1;33m\u001b[0m\u001b[0m\n\u001b[0;32m      3\u001b[0m \u001b[0mmoldf\u001b[0m\u001b[1;33m.\u001b[0m\u001b[0mhead\u001b[0m\u001b[1;33m(\u001b[0m\u001b[1;36m300\u001b[0m\u001b[1;33m)\u001b[0m\u001b[1;33m\u001b[0m\u001b[1;33m\u001b[0m\u001b[0m\n",
      "\u001b[1;32m~\\AppData\\Roaming\\Python\\Python36\\site-packages\\pandas\\core\\frame.py\u001b[0m in \u001b[0;36msort_values\u001b[1;34m(self, by, axis, ascending, inplace, kind, na_position)\u001b[0m\n\u001b[0;32m   3228\u001b[0m \u001b[1;33m\u001b[0m\u001b[0m\n\u001b[0;32m   3229\u001b[0m             \u001b[0mby\u001b[0m \u001b[1;33m=\u001b[0m \u001b[0mby\u001b[0m\u001b[1;33m[\u001b[0m\u001b[1;36m0\u001b[0m\u001b[1;33m]\u001b[0m\u001b[1;33m\u001b[0m\u001b[1;33m\u001b[0m\u001b[0m\n\u001b[1;32m-> 3230\u001b[1;33m             \u001b[0mk\u001b[0m \u001b[1;33m=\u001b[0m \u001b[0mself\u001b[0m\u001b[1;33m.\u001b[0m\u001b[0mxs\u001b[0m\u001b[1;33m(\u001b[0m\u001b[0mby\u001b[0m\u001b[1;33m,\u001b[0m \u001b[0maxis\u001b[0m\u001b[1;33m=\u001b[0m\u001b[0mother_axis\u001b[0m\u001b[1;33m)\u001b[0m\u001b[1;33m.\u001b[0m\u001b[0mvalues\u001b[0m\u001b[1;33m\u001b[0m\u001b[1;33m\u001b[0m\u001b[0m\n\u001b[0m\u001b[0;32m   3231\u001b[0m             \u001b[1;32mif\u001b[0m \u001b[0mk\u001b[0m\u001b[1;33m.\u001b[0m\u001b[0mndim\u001b[0m \u001b[1;33m==\u001b[0m \u001b[1;36m2\u001b[0m\u001b[1;33m:\u001b[0m\u001b[1;33m\u001b[0m\u001b[1;33m\u001b[0m\u001b[0m\n\u001b[0;32m   3232\u001b[0m \u001b[1;33m\u001b[0m\u001b[0m\n",
      "\u001b[1;32m~\\AppData\\Roaming\\Python\\Python36\\site-packages\\pandas\\core\\generic.py\u001b[0m in \u001b[0;36mxs\u001b[1;34m(self, key, axis, level, drop_level)\u001b[0m\n\u001b[0;32m   1768\u001b[0m \u001b[1;33m\u001b[0m\u001b[0m\n\u001b[0;32m   1769\u001b[0m         \u001b[1;32mif\u001b[0m \u001b[0maxis\u001b[0m \u001b[1;33m==\u001b[0m \u001b[1;36m1\u001b[0m\u001b[1;33m:\u001b[0m\u001b[1;33m\u001b[0m\u001b[1;33m\u001b[0m\u001b[0m\n\u001b[1;32m-> 1770\u001b[1;33m             \u001b[1;32mreturn\u001b[0m \u001b[0mself\u001b[0m\u001b[1;33m[\u001b[0m\u001b[0mkey\u001b[0m\u001b[1;33m]\u001b[0m\u001b[1;33m\u001b[0m\u001b[1;33m\u001b[0m\u001b[0m\n\u001b[0m\u001b[0;32m   1771\u001b[0m \u001b[1;33m\u001b[0m\u001b[0m\n\u001b[0;32m   1772\u001b[0m         \u001b[0mself\u001b[0m\u001b[1;33m.\u001b[0m\u001b[0m_consolidate_inplace\u001b[0m\u001b[1;33m(\u001b[0m\u001b[1;33m)\u001b[0m\u001b[1;33m\u001b[0m\u001b[1;33m\u001b[0m\u001b[0m\n",
      "\u001b[1;32m~\\AppData\\Roaming\\Python\\Python36\\site-packages\\pandas\\core\\frame.py\u001b[0m in \u001b[0;36m__getitem__\u001b[1;34m(self, key)\u001b[0m\n\u001b[0;32m   2057\u001b[0m             \u001b[1;32mreturn\u001b[0m \u001b[0mself\u001b[0m\u001b[1;33m.\u001b[0m\u001b[0m_getitem_multilevel\u001b[0m\u001b[1;33m(\u001b[0m\u001b[0mkey\u001b[0m\u001b[1;33m)\u001b[0m\u001b[1;33m\u001b[0m\u001b[1;33m\u001b[0m\u001b[0m\n\u001b[0;32m   2058\u001b[0m         \u001b[1;32melse\u001b[0m\u001b[1;33m:\u001b[0m\u001b[1;33m\u001b[0m\u001b[1;33m\u001b[0m\u001b[0m\n\u001b[1;32m-> 2059\u001b[1;33m             \u001b[1;32mreturn\u001b[0m \u001b[0mself\u001b[0m\u001b[1;33m.\u001b[0m\u001b[0m_getitem_column\u001b[0m\u001b[1;33m(\u001b[0m\u001b[0mkey\u001b[0m\u001b[1;33m)\u001b[0m\u001b[1;33m\u001b[0m\u001b[1;33m\u001b[0m\u001b[0m\n\u001b[0m\u001b[0;32m   2060\u001b[0m \u001b[1;33m\u001b[0m\u001b[0m\n\u001b[0;32m   2061\u001b[0m     \u001b[1;32mdef\u001b[0m \u001b[0m_getitem_column\u001b[0m\u001b[1;33m(\u001b[0m\u001b[0mself\u001b[0m\u001b[1;33m,\u001b[0m \u001b[0mkey\u001b[0m\u001b[1;33m)\u001b[0m\u001b[1;33m:\u001b[0m\u001b[1;33m\u001b[0m\u001b[1;33m\u001b[0m\u001b[0m\n",
      "\u001b[1;32m~\\AppData\\Roaming\\Python\\Python36\\site-packages\\pandas\\core\\frame.py\u001b[0m in \u001b[0;36m_getitem_column\u001b[1;34m(self, key)\u001b[0m\n\u001b[0;32m   2064\u001b[0m         \u001b[1;31m# get column\u001b[0m\u001b[1;33m\u001b[0m\u001b[1;33m\u001b[0m\u001b[1;33m\u001b[0m\u001b[0m\n\u001b[0;32m   2065\u001b[0m         \u001b[1;32mif\u001b[0m \u001b[0mself\u001b[0m\u001b[1;33m.\u001b[0m\u001b[0mcolumns\u001b[0m\u001b[1;33m.\u001b[0m\u001b[0mis_unique\u001b[0m\u001b[1;33m:\u001b[0m\u001b[1;33m\u001b[0m\u001b[1;33m\u001b[0m\u001b[0m\n\u001b[1;32m-> 2066\u001b[1;33m             \u001b[1;32mreturn\u001b[0m \u001b[0mself\u001b[0m\u001b[1;33m.\u001b[0m\u001b[0m_get_item_cache\u001b[0m\u001b[1;33m(\u001b[0m\u001b[0mkey\u001b[0m\u001b[1;33m)\u001b[0m\u001b[1;33m\u001b[0m\u001b[1;33m\u001b[0m\u001b[0m\n\u001b[0m\u001b[0;32m   2067\u001b[0m \u001b[1;33m\u001b[0m\u001b[0m\n\u001b[0;32m   2068\u001b[0m         \u001b[1;31m# duplicate columns & possible reduce dimensionality\u001b[0m\u001b[1;33m\u001b[0m\u001b[1;33m\u001b[0m\u001b[1;33m\u001b[0m\u001b[0m\n",
      "\u001b[1;32m~\\AppData\\Roaming\\Python\\Python36\\site-packages\\pandas\\core\\generic.py\u001b[0m in \u001b[0;36m_get_item_cache\u001b[1;34m(self, item)\u001b[0m\n\u001b[0;32m   1384\u001b[0m         \u001b[0mres\u001b[0m \u001b[1;33m=\u001b[0m \u001b[0mcache\u001b[0m\u001b[1;33m.\u001b[0m\u001b[0mget\u001b[0m\u001b[1;33m(\u001b[0m\u001b[0mitem\u001b[0m\u001b[1;33m)\u001b[0m\u001b[1;33m\u001b[0m\u001b[1;33m\u001b[0m\u001b[0m\n\u001b[0;32m   1385\u001b[0m         \u001b[1;32mif\u001b[0m \u001b[0mres\u001b[0m \u001b[1;32mis\u001b[0m \u001b[1;32mNone\u001b[0m\u001b[1;33m:\u001b[0m\u001b[1;33m\u001b[0m\u001b[1;33m\u001b[0m\u001b[0m\n\u001b[1;32m-> 1386\u001b[1;33m             \u001b[0mvalues\u001b[0m \u001b[1;33m=\u001b[0m \u001b[0mself\u001b[0m\u001b[1;33m.\u001b[0m\u001b[0m_data\u001b[0m\u001b[1;33m.\u001b[0m\u001b[0mget\u001b[0m\u001b[1;33m(\u001b[0m\u001b[0mitem\u001b[0m\u001b[1;33m)\u001b[0m\u001b[1;33m\u001b[0m\u001b[1;33m\u001b[0m\u001b[0m\n\u001b[0m\u001b[0;32m   1387\u001b[0m             \u001b[0mres\u001b[0m \u001b[1;33m=\u001b[0m \u001b[0mself\u001b[0m\u001b[1;33m.\u001b[0m\u001b[0m_box_item_values\u001b[0m\u001b[1;33m(\u001b[0m\u001b[0mitem\u001b[0m\u001b[1;33m,\u001b[0m \u001b[0mvalues\u001b[0m\u001b[1;33m)\u001b[0m\u001b[1;33m\u001b[0m\u001b[1;33m\u001b[0m\u001b[0m\n\u001b[0;32m   1388\u001b[0m             \u001b[0mcache\u001b[0m\u001b[1;33m[\u001b[0m\u001b[0mitem\u001b[0m\u001b[1;33m]\u001b[0m \u001b[1;33m=\u001b[0m \u001b[0mres\u001b[0m\u001b[1;33m\u001b[0m\u001b[1;33m\u001b[0m\u001b[0m\n",
      "\u001b[1;32m~\\AppData\\Roaming\\Python\\Python36\\site-packages\\pandas\\core\\internals.py\u001b[0m in \u001b[0;36mget\u001b[1;34m(self, item, fastpath)\u001b[0m\n\u001b[0;32m   3541\u001b[0m \u001b[1;33m\u001b[0m\u001b[0m\n\u001b[0;32m   3542\u001b[0m             \u001b[1;32mif\u001b[0m \u001b[1;32mnot\u001b[0m \u001b[0misnull\u001b[0m\u001b[1;33m(\u001b[0m\u001b[0mitem\u001b[0m\u001b[1;33m)\u001b[0m\u001b[1;33m:\u001b[0m\u001b[1;33m\u001b[0m\u001b[1;33m\u001b[0m\u001b[0m\n\u001b[1;32m-> 3543\u001b[1;33m                 \u001b[0mloc\u001b[0m \u001b[1;33m=\u001b[0m \u001b[0mself\u001b[0m\u001b[1;33m.\u001b[0m\u001b[0mitems\u001b[0m\u001b[1;33m.\u001b[0m\u001b[0mget_loc\u001b[0m\u001b[1;33m(\u001b[0m\u001b[0mitem\u001b[0m\u001b[1;33m)\u001b[0m\u001b[1;33m\u001b[0m\u001b[1;33m\u001b[0m\u001b[0m\n\u001b[0m\u001b[0;32m   3544\u001b[0m             \u001b[1;32melse\u001b[0m\u001b[1;33m:\u001b[0m\u001b[1;33m\u001b[0m\u001b[1;33m\u001b[0m\u001b[0m\n\u001b[0;32m   3545\u001b[0m                 \u001b[0mindexer\u001b[0m \u001b[1;33m=\u001b[0m \u001b[0mnp\u001b[0m\u001b[1;33m.\u001b[0m\u001b[0marange\u001b[0m\u001b[1;33m(\u001b[0m\u001b[0mlen\u001b[0m\u001b[1;33m(\u001b[0m\u001b[0mself\u001b[0m\u001b[1;33m.\u001b[0m\u001b[0mitems\u001b[0m\u001b[1;33m)\u001b[0m\u001b[1;33m)\u001b[0m\u001b[1;33m[\u001b[0m\u001b[0misnull\u001b[0m\u001b[1;33m(\u001b[0m\u001b[0mself\u001b[0m\u001b[1;33m.\u001b[0m\u001b[0mitems\u001b[0m\u001b[1;33m)\u001b[0m\u001b[1;33m]\u001b[0m\u001b[1;33m\u001b[0m\u001b[1;33m\u001b[0m\u001b[0m\n",
      "\u001b[1;32m~\\AppData\\Roaming\\Python\\Python36\\site-packages\\pandas\\indexes\\base.py\u001b[0m in \u001b[0;36mget_loc\u001b[1;34m(self, key, method, tolerance)\u001b[0m\n\u001b[0;32m   2134\u001b[0m                 \u001b[1;32mreturn\u001b[0m \u001b[0mself\u001b[0m\u001b[1;33m.\u001b[0m\u001b[0m_engine\u001b[0m\u001b[1;33m.\u001b[0m\u001b[0mget_loc\u001b[0m\u001b[1;33m(\u001b[0m\u001b[0mkey\u001b[0m\u001b[1;33m)\u001b[0m\u001b[1;33m\u001b[0m\u001b[1;33m\u001b[0m\u001b[0m\n\u001b[0;32m   2135\u001b[0m             \u001b[1;32mexcept\u001b[0m \u001b[0mKeyError\u001b[0m\u001b[1;33m:\u001b[0m\u001b[1;33m\u001b[0m\u001b[1;33m\u001b[0m\u001b[0m\n\u001b[1;32m-> 2136\u001b[1;33m                 \u001b[1;32mreturn\u001b[0m \u001b[0mself\u001b[0m\u001b[1;33m.\u001b[0m\u001b[0m_engine\u001b[0m\u001b[1;33m.\u001b[0m\u001b[0mget_loc\u001b[0m\u001b[1;33m(\u001b[0m\u001b[0mself\u001b[0m\u001b[1;33m.\u001b[0m\u001b[0m_maybe_cast_indexer\u001b[0m\u001b[1;33m(\u001b[0m\u001b[0mkey\u001b[0m\u001b[1;33m)\u001b[0m\u001b[1;33m)\u001b[0m\u001b[1;33m\u001b[0m\u001b[1;33m\u001b[0m\u001b[0m\n\u001b[0m\u001b[0;32m   2137\u001b[0m \u001b[1;33m\u001b[0m\u001b[0m\n\u001b[0;32m   2138\u001b[0m         \u001b[0mindexer\u001b[0m \u001b[1;33m=\u001b[0m \u001b[0mself\u001b[0m\u001b[1;33m.\u001b[0m\u001b[0mget_indexer\u001b[0m\u001b[1;33m(\u001b[0m\u001b[1;33m[\u001b[0m\u001b[0mkey\u001b[0m\u001b[1;33m]\u001b[0m\u001b[1;33m,\u001b[0m \u001b[0mmethod\u001b[0m\u001b[1;33m=\u001b[0m\u001b[0mmethod\u001b[0m\u001b[1;33m,\u001b[0m \u001b[0mtolerance\u001b[0m\u001b[1;33m=\u001b[0m\u001b[0mtolerance\u001b[0m\u001b[1;33m)\u001b[0m\u001b[1;33m\u001b[0m\u001b[1;33m\u001b[0m\u001b[0m\n",
      "\u001b[1;32mpandas\\index.pyx\u001b[0m in \u001b[0;36mpandas.index.IndexEngine.get_loc (pandas\\index.c:4433)\u001b[1;34m()\u001b[0m\n",
      "\u001b[1;32mpandas\\index.pyx\u001b[0m in \u001b[0;36mpandas.index.IndexEngine.get_loc (pandas\\index.c:4279)\u001b[1;34m()\u001b[0m\n",
      "\u001b[1;32mpandas\\src\\hashtable_class_helper.pxi\u001b[0m in \u001b[0;36mpandas.hashtable.PyObjectHashTable.get_item (pandas\\hashtable.c:13742)\u001b[1;34m()\u001b[0m\n",
      "\u001b[1;32mpandas\\src\\hashtable_class_helper.pxi\u001b[0m in \u001b[0;36mpandas.hashtable.PyObjectHashTable.get_item (pandas\\hashtable.c:13696)\u001b[1;34m()\u001b[0m\n",
      "\u001b[1;31mKeyError\u001b[0m: 'Outcome'"
     ]
    }
   ],
   "source": [
    "moldf= moldf.sort_values(['Outcome'], ascending=True)\n",
    "moldf['RowID'] = moldf.index\n",
    "moldf.head(300)"
   ]
  },
  {
   "cell_type": "markdown",
   "metadata": {},
   "source": [
    "## 4. Definir a coluna a ser usada como variável dependente"
   ]
  },
  {
   "cell_type": "code",
   "execution_count": null,
   "metadata": {},
   "outputs": [],
   "source": [
    "from sklearn.preprocessing import LabelEncoder\n",
    "le = LabelEncoder()\n",
    "\n",
    "\n",
    "outcomes=(np.unique(moldf['Outcome']))\n",
    "le.fit(list(set(outcomes)))\n",
    "y = le.transform( moldf['Outcome'] )\n",
    "\n",
    "\n",
    "\n",
    "print (\"Classes                          : \",(outcomes))\n",
    "print (\"Number of cpds in each class     : \",np.unique([len(y[y==smi]) for smi in y]))\n",
    "print (\"Total number of cpds             : \",len(y))\n",
    "\n",
    "S = moldf['Outcome']\n",
    "info = {}\n",
    "for i,cls in enumerate(S.unique()):\n",
    "    info.update({cls:i})\n",
    "    S = S.replace(cls,i)"
   ]
  },
  {
   "cell_type": "code",
   "execution_count": null,
   "metadata": {},
   "outputs": [],
   "source": [
    "ax = S.hist(bins=np.arange(-0.5,5))\n",
    "ax.set_xticks(range(0,5))\n",
    "info"
   ]
  },
  {
   "cell_type": "markdown",
   "metadata": {},
   "source": [
    "## 5. Descritor e Modelagem"
   ]
  },
  {
   "cell_type": "code",
   "execution_count": null,
   "metadata": {},
   "outputs": [],
   "source": [
    "nBits = 1024\n",
    "radius=2\n",
    "useFeatures= False\n",
    "\n",
    "calcfp = lambda mol: GetMorganFingerprintAsBitVect(mol,nBits=nBits,radius=radius, useFeatures=useFeatures)\n",
    "moldf['Descriptors'] = moldf.Mol.apply(calcfp)\n",
    "\n",
    "y= np.int32((S))\n",
    "x = np.array(list(moldf['Descriptors']))"
   ]
  },
  {
   "cell_type": "code",
   "execution_count": null,
   "metadata": {},
   "outputs": [],
   "source": [
    "############################################## Random Forest ##################################################\n",
    "paramgrid = {\"max_features\": [x.shape[1] , x.shape[1] // 2,  x.shape[1] // 4,  x.shape[1] // 12,  x.shape[1] // 10, x.shape[1] // 7, x.shape[1] // 5, x.shape[1] // 3 ],\n",
    "             \"n_estimators\": [ 10, 100, 300, 500], }\n",
    "\n",
    "\n",
    "from sklearn.model_selection import RepeatedKFold\n",
    "from evolutionary_search import EvolutionaryAlgorithmSearchCV\n",
    "\n",
    "\n",
    "ncores=1\n",
    "verbose=1\n",
    "seed = 24\n",
    "\n",
    "np.random.seed(seed)\n",
    "\n",
    "# Kappa Scorer \n",
    "kappa_scorer = metrics.make_scorer(quadratic_weighted_kappa, greater_is_better = True)\n",
    "\n",
    "\n",
    "\n",
    "model = EvolutionaryAlgorithmSearchCV(estimator=RF(class_weight=None),\n",
    "                                   params=paramgrid,\n",
    "                                   scoring=kappa_scorer,\n",
    "                                   cv = StratifiedShuffleSplit(n_splits=5, test_size=0.2, random_state=seed),\n",
    "                                   verbose=1,\n",
    "                                   population_size=50,\n",
    "                                   gene_mutation_prob=0.10,\n",
    "                                   gene_crossover_prob=0.5,\n",
    "                                   tournament_size=3,\n",
    "                                   generations_number=5,\n",
    "                                   iid=True,\n",
    "                                   refit=True,\n",
    "                                   n_jobs=ncores)\n",
    "\n",
    "model.fit(x, y)\n",
    "\n",
    "# Get best model\n",
    "best_model = model.best_estimator_\n",
    "\n",
    "# Fit model with best parameters optimized for quadratic_weighted_kappa\n",
    "best_model.fit(x,y)\n",
    "\n",
    "\n"
   ]
  },
  {
   "cell_type": "markdown",
   "metadata": {},
   "source": [
    "## 6. Avaliação Externa e Parametros Estatísticos"
   ]
  },
  {
   "cell_type": "markdown",
   "metadata": {},
   "source": [
    "### 6.1 5-Fold Externo com todos os dados"
   ]
  },
  {
   "cell_type": "code",
   "execution_count": null,
   "metadata": {},
   "outputs": [],
   "source": [
    " ypreds_folds_total_final,index_test_folds_final, training_labels_AD_final_conc,training_labels_pred_AD_final_conc, y_obs_folds, test_index_ad_final_conc, Dc,index_train_folds, index_test_folds, ypreds_folds, yproba_folds, k  = AD_scikitlearn(x,y,seed=seed, model_name= best_model)\n",
    "run_statistics(y_obs_folds, ypreds_folds_total_final, label=\"RF external 5-fold CV\", coverage=100)"
   ]
  },
  {
   "cell_type": "markdown",
   "metadata": {},
   "source": [
    "### 6.2 5-Fold Externo somente com os dados no AD"
   ]
  },
  {
   "cell_type": "code",
   "execution_count": null,
   "metadata": {},
   "outputs": [],
   "source": [
    "coverage=(((len(training_labels_AD_final_conc))*100)/(float(len(index_test_folds_final)*100))*100)\n",
    "run_statistics(training_labels_AD_final_conc, training_labels_pred_AD_final_conc, label=\"RF external 5-fold CV\", coverage=coverage)"
   ]
  },
  {
   "cell_type": "markdown",
   "metadata": {},
   "source": [
    "# 7. Preparar os dados para salvar"
   ]
  },
  {
   "cell_type": "markdown",
   "metadata": {},
   "source": [
    "### Atributos:\n",
    "\n",
    "* molecules:\n",
    "     `pandas.DataFrame()` com os descritores moleculares para o dataset* (usado na `similarity_table()`)\n",
    "* descriptor:\n",
    "    *`dict()` com informações do descritor utilizado (usado na `similarity_table()`)\n",
    "        * function: função de calcular o descritor\n",
    "        * info: `dict()` com os argumentos de entrada da função\n",
    "        * name: nome do descritor\n",
    "* models:\n",
    "    * `list()` de `dict()` com os dados dos modelos:\n",
    "        * model: modelo de predição do `scikit-learn`\n",
    "        * name: nome do modelo\n",
    "        * longname: descrição curta do modelo\n",
    "        * descriptor: `dict()` com informações do descritor utilizado\n",
    "            * function: função de calcular o descritor\n",
    "            * info: `dict()` com os argumentos de entrada da função\n",
    "            * name: nome do descritor\n",
    "         fpDF: `pandas.DataFrame()` com os descritores moleculares para o dataset*\n",
    "        * dataset: `pandas.DataFrame()` com as informações moleculares de validação do modelo\n",
    "         applM: distribuição de similaridade do k*-vizinho mais próximo calculada para toda dataset\n",
    "        * k: ordinal do vizinho mais próximo calculado para o dataset\n",
    "        * dda: limite estabelecido para que a molécula esteja no domínio de aplicabilidade do modelo\n",
    "\n",
    "### Métodos:\n",
    "\n",
    "* `model_table()`:\n",
    "    * Gera a tabela (`pandas.DataFrame()`) de resultados dos modelos\n",
    "* `AD_table()`:\n",
    "    * Gera a tabela (`pandas.DataFrame()`) de domínio de aplicabilidade dos modelos\n",
    "* `similarity_table`:\n",
    "    * Gera a tabela (`pandas.DataFrame()`) dos mapas de similaridade das `n` moléculas mais próximas.\n",
    "    * Gera dados de similaridade que serão usados pela função `similarity_statistics()`\n",
    "    \n",
    "##  7.1 Gerando a tabela de dados com todas predições para cada fold"
   ]
  },
  {
   "cell_type": "code",
   "execution_count": null,
   "metadata": {},
   "outputs": [],
   "source": [
    "#Get all external Folds and save in Excel format\n",
    "\n",
    "all_ext_Folds = pd.DataFrame()\n",
    "for foldnum in range(1,5+1):\n",
    "    for rep in range(1,5+1):\n",
    "        final_frame = (len(moldf)-1) \n",
    "        fold_N= index_test_folds[foldnum-1]\n",
    "        pred_N= ypreds_folds[foldnum-1]\n",
    "        proba_N = yproba_folds[foldnum-1]\n",
    "        \n",
    "        tab = moldf.iloc[fold_N,:]\n",
    "        tab['Prediction'] = pred_N\n",
    "        tab['Confiability'] = proba_N\n",
    "        tab['Fold'] = 'Fold {:d} extenal Repetition {:d}'.format(foldnum,rep)\n",
    "\n",
    "        all_ext_Folds = all_ext_Folds.append(tab).reset_index(drop=True)\n",
    "\n",
    "\n",
    "cols = ['ROMol','SMILES','Outcome','Prediction','Fold']\n",
    "\n",
    "### melhorar ##\n",
    "dX = dict()\n",
    "[dX.update({i:[val]}) for i,val in enumerate(x)]\n",
    "dfX = pd.DataFrame.from_dict(dX).T\n",
    "dfX.columns=['FingerPrint']\n",
    "dfX['SMILES'] = moldf['SMILES']\n",
    "\n",
    "#########################\n",
    "\n",
    "Dict_AD = {}\n",
    "Dict_AD[\"FingerPrint\"] = dfX\n",
    "Dict_AD[\"Folds\"] = all_ext_Folds\n",
    "Dict_AD[\"k\"] = k\n",
    "Dict_AD[\"AD.distance.limit\"] = Dc.mean()\n",
    "Dict_AD[\"distance_AD\"] = np.asarray(getNeighborsDitance(x, x, k))\n",
    "Folds_true= Dict_AD[\"Folds\"]\n",
    "Folds_true = Folds_true.drop('Descriptors', 1)\n",
    "\n"
   ]
  },
  {
   "cell_type": "markdown",
   "metadata": {},
   "source": [
    "###  7.1.1 Mostrando a tabela de dados com todas predições para cada fold (last one)"
   ]
  },
  {
   "cell_type": "code",
   "execution_count": null,
   "metadata": {},
   "outputs": [],
   "source": [
    "Folds_true.head()"
   ]
  },
  {
   "cell_type": "code",
   "execution_count": null,
   "metadata": {},
   "outputs": [],
   "source": [
    "\n",
    "newKeys = {'FingerPrint':'fpDF', 'Folds':'molDF',\n",
    "        'k':'k', 'AD.distance.limit':'dda',\n",
    "        'distance_AD':'applM'}\n",
    "\n",
    "    # Renomeando as chaves\n",
    "Dict_AD = {newKeys[key]:value for key,value in Dict_AD.items()}\n",
    "    # Filtrando a tabela\n",
    "Dict_AD['molDF'] = filter_table(Dict_AD['molDF'])\n",
    "\n",
    "Dict_AD['molDF']['mol'] = list(map(Chem.MolFromSmiles,Dict_AD['molDF'].index))\n"
   ]
  },
  {
   "cell_type": "markdown",
   "metadata": {},
   "source": [
    "##  7.2 Definir as categorias (resultado médias dos folds por molécula)"
   ]
  },
  {
   "cell_type": "code",
   "execution_count": null,
   "metadata": {},
   "outputs": [],
   "source": [
    "Dict_AD['molDF']['Prediction']=np.where(Dict_AD['molDF']['Prediction']>=0.6, 'Sensitizer', 'Non-Sensitizer')\n",
    "Dict_AD['molDF'].head()"
   ]
  },
  {
   "cell_type": "markdown",
   "metadata": {},
   "source": [
    "##  7.3 Mostras a distribuição da similaridade dos dados  AD"
   ]
  },
  {
   "cell_type": "code",
   "execution_count": null,
   "metadata": {},
   "outputs": [],
   "source": [
    "import matplotlib.pyplot as plt\n",
    "plt.hist(Dict_AD['applM'])"
   ]
  },
  {
   "cell_type": "markdown",
   "metadata": {},
   "source": [
    "#  8. Salvando modelo e os dados adicionais"
   ]
  },
  {
   "cell_type": "code",
   "execution_count": null,
   "metadata": {},
   "outputs": [],
   "source": [
    "from sklearn.externals import joblib\n",
    "joblib.dump(best_model, 'model/Modelo_skin_sens_morgan.pkl',compress=9)"
   ]
  },
  {
   "cell_type": "code",
   "execution_count": null,
   "metadata": {},
   "outputs": [],
   "source": [
    "import bz2\n",
    "import pickle\n",
    "import _pickle as cPickle\n",
    "with bz2.BZ2File('model/Dados_adicionais_skin_sens_morgan.pbz2', 'w') as f:\n",
    "    pickle.dump(Dict_AD, f)\n",
    "    "
   ]
  },
  {
   "cell_type": "code",
   "execution_count": null,
   "metadata": {},
   "outputs": [],
   "source": []
  }
 ],
 "metadata": {
  "kernelspec": {
   "display_name": "Python 3",
   "language": "python",
   "name": "python3"
  },
  "language_info": {
   "codemirror_mode": {
    "name": "ipython",
    "version": 3
   },
   "file_extension": ".py",
   "mimetype": "text/x-python",
   "name": "python",
   "nbconvert_exporter": "python",
   "pygments_lexer": "ipython3",
   "version": "3.6.7"
  }
 },
 "nbformat": 4,
 "nbformat_minor": 2
}
